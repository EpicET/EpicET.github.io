{
 "cells": [
  {
   "cell_type": "raw",
   "metadata": {
    "vscode": {
     "languageId": "raw"
    }
   },
   "source": [
    "---\n",
    "title: Implementing the Perceptron Algorithm\n",
    "author: Emmanuel Towner\n",
    "date: '2025-03-31'\n",
    "description: \"Blog Post 4\"\n",
    "format: html\n",
    "---"
   ]
  },
  {
   "cell_type": "markdown",
   "metadata": {},
   "source": [
    "# Implementing a Perceptron Algorithm"
   ]
  },
  {
   "cell_type": "code",
   "execution_count": 27,
   "metadata": {},
   "outputs": [
    {
     "name": "stdout",
     "output_type": "stream",
     "text": []
    }
   ],
   "source": [
    "%load_ext autoreload\n",
    "%autoreload 2\n",
    "from perceptron import Perceptron, PerceptronOptimizer\n"
   ]
  },
  {
   "cell_type": "markdown",
   "metadata": {},
   "source": [
    "Cells 1 to 7 has been directly adapted from Prof. Phil's code. Cell 8 is slightly modified from the original code.\n",
    "The code below in the sets up the necessary functions to implement a perceptron algorithm."
   ]
  },
  {
   "cell_type": "code",
   "execution_count": 28,
   "metadata": {},
   "outputs": [],
   "source": [
    "import torch\n",
    "from matplotlib import pyplot as plt\n",
    "plt.style.use('seaborn-v0_8-whitegrid')\n",
    "\n",
    "torch.manual_seed(1234)\n",
    "\n",
    "def perceptron_data(n_points = 300, noise = 0.2, p_dims = 2):\n",
    "    \n",
    "    y = torch.arange(n_points) >= int(n_points/2)\n",
    "    X = y[:, None] + torch.normal(0.0, noise, size = (n_points,p_dims))\n",
    "    X = torch.cat((X, torch.ones((X.shape[0], 1))), 1)\n",
    "\n",
    "    # convert y from {0, 1} to {-1, 1}\n",
    "    \n",
    "    return X, y\n",
    "\n",
    "X, y = perceptron_data(n_points = 300, noise = 0.2)\n",
    "\n",
    "def plot_perceptron_data(X: torch.Tensor, y: torch.Tensor, ax):\n",
    "    assert X.shape[1] == 3, \"This function only works for data created with p_dims == 2\"\n",
    "    targets = [0, 1]\n",
    "    markers = [\"o\" , \",\"]\n",
    "    for i in range(2):\n",
    "        ix = y == targets[i]\n",
    "        ax.scatter(X[ix,0], X[ix,1], s = 20,  c = 2*y[ix]-1, facecolors = \"none\", edgecolors = \"darkgrey\", cmap = \"BrBG\", vmin = -2, vmax = 2, alpha = 0.5, marker = markers[i])\n",
    "    ax.set(xlabel = r\"$x_1$\", ylabel = r\"$x_2$\")\n",
    "\n",
    "def draw_line(w: torch.Tensor, x_min: int, x_max: int, ax, **kwargs):\n",
    "    w_ = w.flatten()\n",
    "    x = torch.linspace(x_min, x_max, 101)\n",
    "    y = -(w_[0]*x + w_[2])/w_[1]\n",
    "    l = ax.plot(x, y, **kwargs)\n"
   ]
  },
  {
   "cell_type": "code",
   "execution_count": 29,
   "metadata": {},
   "outputs": [
    {
     "name": "stdout",
     "output_type": "stream",
     "text": []
    }
   ],
   "source": [
    "#| echo: false\n",
    "seed = torch.manual_seed(12)\n",
    "X, y = perceptron_data(n_points = 50, noise = 0.3)\n",
    "w = torch.Tensor([1, 1, 1])\n",
    "n = X.shape[0] # number of data points\n",
    "i = torch.randint(n, size = (1,)) # index of a random data point\n",
    "x_i = X[[i],] # the random data point itself\n",
    "s_i = x_i@w\n",
    "\n",
    "fig, ax = plt.subplots(1, 1, figsize = (4, 4))\n",
    "X, y = perceptron_data()\n",
    "plot_perceptron_data(X, y, ax)\n",
    "draw_line(w, -1, 2, ax, color = \"black\")"
   ]
  },
  {
   "cell_type": "markdown",
   "metadata": {},
   "source": [
    "### Test the Perceptron Algorithm\n",
    "This tests the Perceptron to see if the loss does reach 0."
   ]
  },
  {
   "cell_type": "code",
   "execution_count": 30,
   "metadata": {},
   "outputs": [
    {
     "name": "stdout",
     "output_type": "stream",
     "text": []
    }
   ],
   "source": [
    "# instantiate a model and an optimizer\n",
    "p = Perceptron() \n",
    "opt = PerceptronOptimizer(p)\n",
    "\n",
    "loss = 1.0\n",
    "\n",
    "# for keeping track of loss values\n",
    "loss_vec = []\n",
    "\n",
    "n = X.size()[0]\n",
    "\n",
    "while loss > 0: # dangerous -- only terminates if data is linearly separable\n",
    "    \n",
    "    # not part of the update: just for tracking our progress    \n",
    "    loss = p.loss(X, y) \n",
    "    loss_vec.append(loss)\n",
    "    \n",
    "    # pick a random data point\n",
    "    i = torch.randint(n, size = (1,))\n",
    "    x_i = X[[i],:]\n",
    "    y_i = y[i]\n",
    "    \n",
    "    # perform a perceptron update using the random data point\n",
    "    opt.step(x_i, y_i)\n",
    "\n",
    "plt.plot(loss_vec, color = \"slategrey\")\n",
    "plt.scatter(torch.arange(len(loss_vec)), loss_vec, color = \"slategrey\")\n",
    "labs = plt.gca().set(xlabel = \"Perceptron Iteration (Updates Only)\", ylabel = \"loss\")"
   ]
  },
  {
   "cell_type": "markdown",
   "metadata": {},
   "source": [
    "This plots the decision boundary and the data points over time."
   ]
  },
  {
   "cell_type": "code",
   "execution_count": 31,
   "metadata": {},
   "outputs": [
    {
     "name": "stdout",
     "output_type": "stream",
     "text": []
    },
    {
     "name": "stdout",
     "output_type": "stream",
     "text": []
    }
   ],
   "source": [
    "torch.manual_seed(1234567)\n",
    "\n",
    "# initialize a perceptron \n",
    "p = Perceptron()\n",
    "opt = PerceptronOptimizer(p)\n",
    "p.loss(X, y)\n",
    "\n",
    "# set up the figure\n",
    "plt.rcParams[\"figure.figsize\"] = (7, 5)\n",
    "fig, axarr = plt.subplots(2, 3, sharex = True, sharey = True)\n",
    "markers = [\"o\", \",\"]\n",
    "marker_map = {-1 : 0, 1 : 1}\n",
    "\n",
    "# initialize for main loop\n",
    "current_ax = 0\n",
    "loss = 1\n",
    "loss_vec = []\n",
    "\n",
    "while loss > 0:\n",
    "    \n",
    "    # Making sure we don't run out of axes\n",
    "    if current_ax >= len(axarr.ravel()):\n",
    "        print(\"Ran out of axes to plot. Stopping early.\")\n",
    "        break\n",
    "    \n",
    "    ax = axarr.ravel()[current_ax]\n",
    "\n",
    "    # save the old value of w for plotting later\n",
    "    old_w = torch.clone(p.w)\n",
    "    \n",
    "\n",
    "    # make an optimization step -- this is where the update actually happens\n",
    "    # now p.w is the new value \n",
    "\n",
    "    i = torch.randint(n, size = (1,))\n",
    "    x_i = X[[i],:]\n",
    "    y_i = y[i]\n",
    "    local_loss = p.loss(x_i, y_i).item()\n",
    "\n",
    "    if local_loss > 0:\n",
    "        opt.step(x_i, y_i)\n",
    "    \n",
    "    # if a change was made, plot the old and new decision boundaries\n",
    "    # also add the new loss to loss_vec for plotting below\n",
    "    if local_loss > 0:\n",
    "        plot_perceptron_data(X, y, ax)\n",
    "        draw_line(old_w, x_min = -1, x_max = 2, ax = ax, color = \"black\", linestyle = \"dashed\")\n",
    "        loss = p.loss(X, y).item()\n",
    "        loss_vec.append(loss)\n",
    "        draw_line(p.w, x_min = -1, x_max = 2, ax = ax, color = \"black\")\n",
    "        ax.scatter(X[i,0],X[i,1], color = \"black\", facecolors = \"none\", edgecolors = \"black\", marker = markers[marker_map[2*(y[i].item())-1]])\n",
    "        # draw_line(w, -10, 10, ax, color = \"black\")\n",
    "        ax.set_title(f\"loss = {loss:.3f}\")\n",
    "        ax.set(xlim = (-1, 2), ylim = (-1, 2))\n",
    "        current_ax += 1\n",
    "plt.tight_layout()"
   ]
  },
  {
   "cell_type": "code",
   "execution_count": 32,
   "metadata": {},
   "outputs": [
    {
     "name": "stdout",
     "output_type": "stream",
     "text": []
    }
   ],
   "source": [
    "torch.manual_seed(1234567)\n",
    "\n",
    "# initialize a perceptron \n",
    "p = Perceptron()\n",
    "opt = PerceptronOptimizer(p)\n",
    "p.loss(X, y)\n",
    "\n",
    "fig, axarr = plt.subplots(1, 2, figsize=(12, 6))\n",
    "current_ax = 0\n",
    "\n",
    "loss = 1\n",
    "score_vec = [] \n",
    "\n",
    "while loss > 0 and len(score_vec) <= 1000:\n",
    "\n",
    "    # save the old value of w for plotting later\n",
    "    old_w = torch.clone(p.w)\n",
    "    \n",
    "    # make an optimization step -- this is where the update actually happens\n",
    "    # now p.w is the new value \n",
    "\n",
    "    i = torch.randint(n, size = (1,))\n",
    "    x_i = X[[i],:]\n",
    "    y_i = y[i]\n",
    "    local_loss = p.loss(x_i, y_i).item()\n",
    "    score = p.score(X).mean()\n",
    "\n",
    "    if local_loss > 0:\n",
    "        opt.step(x_i, y_i)\n",
    "    \n",
    "    if local_loss > 0:\n",
    "        loss = p.loss(X, y).item()\n",
    "        score = p.score(X).mean()\n",
    "        score_vec.append(score)\n",
    "\n",
    "# plot the score over iterations\n",
    "axarr[0].plot(range(len(score_vec)), score_vec, color=\"steelblue\", label=\"Score\")\n",
    "axarr[0].set_title(\"Score vs. Iterations\")\n",
    "axarr[0].set_xlabel(\"Iteration\")\n",
    "axarr[0].set_ylabel(\"Score\")\n",
    "\n",
    "# Plot the final decision boundary\n",
    "plot_perceptron_data(X, y, axarr[1])\n",
    "draw_line(p.w, x_min=-1, x_max=2, ax=axarr[1], color=\"black\")\n",
    "axarr[1].scatter(X[i, 0], X[i, 1], color=\"black\", facecolors=\"none\", edgecolors=\"black\")\n",
    "axarr[1].set_title(f\"Final Decision Boundary (Loss = {loss:.3f})\")\n",
    "axarr[1].set(xlim=(-1, 2), ylim=(-1, 2))\n",
    "\n",
    "plt.tight_layout()\n"
   ]
  }
 ],
 "metadata": {
  "kernelspec": {
   "display_name": "ml-0451",
   "language": "python",
   "name": "python3"
  },
  "language_info": {
   "codemirror_mode": {
    "name": "ipython",
    "version": 3
   },
   "file_extension": ".py",
   "mimetype": "text/x-python",
   "name": "python",
   "nbconvert_exporter": "python",
   "pygments_lexer": "ipython3",
   "version": "3.9.19"
  }
 },
 "nbformat": 4,
 "nbformat_minor": 2
}
