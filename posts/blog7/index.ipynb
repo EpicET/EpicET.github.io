{
 "cells": [
  {
   "cell_type": "raw",
   "id": "0",
   "metadata": {
    "vscode": {
     "languageId": "raw"
    }
   },
   "source": [
    "---\n",
    "title: Sparse Kernel Machines\n",
    "author: Emmanuel Towner\n",
    "date: '2025-04-29'\n",
    "description: \"Blog Post 7\"\n",
    "format: html\n",
    "---"
   ]
  },
  {
   "cell_type": "markdown",
   "id": "1",
   "metadata": {},
   "source": [
    "# Sparse Kernel Machines"
   ]
  },
  {
   "cell_type": "code",
   "execution_count": null,
   "id": "2",
   "metadata": {},
   "outputs": [],
   "source": [
    "import torch \n",
    "from matplotlib import pyplot as plt\n",
    "plt.style.use('seaborn-v0_8-whitegrid')\n",
    "\n",
    "def classification_data(n_points = 300, noise = 0.2, p_dims = 2):\n",
    "    \n",
    "    y = torch.arange(n_points) >= int(n_points/2)\n",
    "    y = 1.0*y\n",
    "    X = y[:, None] + torch.normal(0.0, noise, size = (n_points,p_dims))\n",
    "    # X = torch.cat((X, torch.ones((X.shape[0], 1))), 1)\n",
    "    \n",
    "    X = X - X.mean(dim = 0, keepdim = True)\n",
    "    return X, y\n",
    "\n",
    "\n",
    "def plot_classification_data(X, y, ax):\n",
    "    assert X.shape[1] == 2, \"This function only works for data created with p_dims == 2\"\n",
    "    targets = [0, 1]\n",
    "    markers = [\"o\" , \",\"]\n",
    "    for i in range(2):\n",
    "        ix = y == targets[i]\n",
    "        ax.scatter(X[ix,0], X[ix,1], s = 20,  c = y[ix], facecolors = \"none\", edgecolors = \"darkgrey\", cmap = \"BrBG\", vmin = -1, vmax = 2, alpha = 0.8, marker = markers[i])\n",
    "    ax.set(xlabel = r\"$x_1$\", ylabel = r\"$x_2$\")\n",
    "\n",
    "fig, ax = plt.subplots(1, 1)\n",
    "X, y = classification_data(n_points = 100, noise = 0.4)\n",
    "plot_classification_data(X, y, ax)"
   ]
  },
  {
   "cell_type": "code",
   "execution_count": null,
   "id": "3",
   "metadata": {},
   "outputs": [],
   "source": [
    "def rbf_kernel(X_1, X_2, gamma):\n",
    "    return torch.exp(-gamma*torch.cdist(X_1, X_2)**2)"
   ]
  },
  {
   "cell_type": "code",
   "execution_count": null,
   "id": "4",
   "metadata": {},
   "outputs": [],
   "source": [
    "from kernel_logistic import KernelLogisticRegression\n",
    "\n",
    "KR = KernelLogisticRegression(rbf_kernel, lam = 0.1, gamma = 1)\n",
    "KR.fit(X, y, m_epochs = 500000, lr = 0.0001)"
   ]
  },
  {
   "cell_type": "code",
   "execution_count": null,
   "id": "5",
   "metadata": {},
   "outputs": [],
   "source": [
    "(1.0*(KR.a > 0.001)).mean()"
   ]
  },
  {
   "cell_type": "code",
   "execution_count": null,
   "id": "6",
   "metadata": {},
   "outputs": [],
   "source": [
    "ix = torch.abs(KR.a) > 0.001\n",
    "\n",
    "x1 = torch.linspace(X[:,0].min() - 0.2, X[:,0].max() + 0.2, 101)\n",
    "x2 = torch.linspace(X[:,1].min() - 0.2, X[:,1].max() + 0.2, 101)\n",
    "\n",
    "X1, X2 = torch.meshgrid(x1, x2, indexing='ij')\n",
    "\n",
    "x1 = X1.ravel()\n",
    "x2 = X2.ravel()\n",
    "\n",
    "X_ = torch.stack((x1, x2), dim = 1)\n",
    "\n",
    "preds = KR.score(X_, recompute_kernel = True)\n",
    "preds = 1.0*torch.reshape(preds, X1.size())\n",
    "\n",
    "fig, ax = plt.subplots(1, 1)\n",
    "ax.contourf(X1, X2, preds, origin = \"lower\", cmap = \"BrBG\", \n",
    "vmin = 2*preds.min() - preds.max(), vmax = 2*preds.max() - preds.min()\n",
    ")\n",
    "plot_classification_data(X, y, ax)\n",
    "plt.scatter(X[ix, 0],X[ix, 1], facecolors = \"none\", edgecolors = \"black\")\n",
    "# ax.scatter(X[ix, 0],X[ix, 1], facecolors = \"none\", edgecolors = \"black\")"
   ]
  }
 ],
 "metadata": {
  "kernelspec": {
   "display_name": "ml-0451",
   "language": "python",
   "name": "python3"
  },
  "language_info": {
   "name": "python",
   "version": "3.9.19"
  }
 },
 "nbformat": 4,
 "nbformat_minor": 5
}
