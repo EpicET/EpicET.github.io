{
 "cells": [
  {
   "cell_type": "raw",
   "id": "0",
   "metadata": {
    "vscode": {
     "languageId": "raw"
    }
   },
   "source": [
    "---\n",
    "title: Advanced Optimization\n",
    "author: Emmanuel Towner\n",
    "date: '2025-05-07'\n",
    "description: \"Blog Post 8\"\n",
    "format: html\n",
    "---"
   ]
  },
  {
   "cell_type": "markdown",
   "id": "1",
   "metadata": {},
   "source": [
    "# Advanced Optimization: Newton’s Method and Adam\n",
    "\n",
    "## Abstract"
   ]
  },
  {
   "cell_type": "code",
   "execution_count": null,
   "id": "2",
   "metadata": {},
   "outputs": [],
   "source": [
    "%load_ext autoreload\n",
    "%autoreload 2\n",
    "\n",
    "from newton_logistic import LogisticRegression, NewtonOptimizer"
   ]
  },
  {
   "cell_type": "markdown",
   "id": "3",
   "metadata": {},
   "source": [
    "For my external dataset, I used a [heart prediction dataset](https://www.kaggle.com/datasets/shantanugarg274/heart-prediction-dataset-quantum) from Kaggle. "
   ]
  },
  {
   "cell_type": "code",
   "execution_count": null,
   "id": "4",
   "metadata": {},
   "outputs": [],
   "source": [
    "import kagglehub\n",
    "import pandas as pd\n",
    "from sklearn.model_selection import train_test_split\n",
    "\n",
    "# Download dataset from Kaggle\n",
    "path = kagglehub.dataset_download(\"shantanugarg274/heart-prediction-dataset-quantum\")\n",
    "print(\"Path to dataset files:\", path)\n",
    "\n",
    "data_path = path + \"/Heart Prediction Quantum Dataset.csv\"\n",
    "df = pd.read_csv(data_path)\n",
    "# print(df.head())"
   ]
  },
  {
   "cell_type": "markdown",
   "id": "5",
   "metadata": {},
   "source": [
    "Here I found a dataset on heart disease prediction from Kaggle. The data was in 1 csv file with 7 columns representing age, gender, blood pressure, cholesterol, heart rate, quantum pattern feature, and heart disease. "
   ]
  },
  {
   "cell_type": "code",
   "execution_count": null,
   "id": "6",
   "metadata": {},
   "outputs": [],
   "source": [
    "X_data = df.drop(\"HeartDisease\", axis=1).values\n",
    "y_data = df[\"HeartDisease\"].values"
   ]
  },
  {
   "cell_type": "markdown",
   "id": "7",
   "metadata": {},
   "source": [
    "Since I intend to predict heart disease, I removed that column from the main dataset in part in the target set."
   ]
  },
  {
   "cell_type": "code",
   "execution_count": null,
   "id": "8",
   "metadata": {},
   "outputs": [],
   "source": [
    "X_train, X_test, y_train, y_test = train_test_split(X_data, y_data, test_size=0.4, random_state=42)\n"
   ]
  },
  {
   "cell_type": "markdown",
   "id": "9",
   "metadata": {},
   "source": [
    "I also used train_test_split to split the 60% data into training and 40% in test sets. "
   ]
  },
  {
   "cell_type": "code",
   "execution_count": null,
   "id": "10",
   "metadata": {},
   "outputs": [],
   "source": [
    "import matplotlib.pyplot as plt\n",
    "import torch\n",
    "\n",
    "fig, ax = plt.subplots(1, 2, figsize=(12, 6))\n",
    "\n",
    "LR = LogisticRegression() \n",
    "opt = NewtonOptimizer(LR)\n",
    "\n",
    "loss_train = []\n",
    "loss_test = []\n",
    "\n",
    "iterations = 100\n",
    "alpha = 0.01\n",
    "# Training loop\n",
    "for _ in range(iterations):\n",
    "    train_loss = LR.loss(X_train, y_train)\n",
    "    loss_train.append(train_loss.item())\n",
    "    opt.step(X_train, y_train, alpha, beta=0.0)\n",
    "\n",
    "# Testing loop\n",
    "for _ in range(iterations):\n",
    "    test_loss = LR.loss(X_test, y_test)\n",
    "    loss_test.append(test_loss.item())\n",
    "    \n",
    "# Plotting the loss\n",
    "ax[0].plot(torch.arange(1, iterations + 1), loss_train, color=\"black\")\n",
    "ax[0].set_xlabel(\"Iterations\")\n",
    "ax[0].set_ylabel(\"Training Loss\")\n",
    "ax[0].set_title(\"Training Loss\")\n",
    "\n",
    "# Plotting the test loss\n",
    "ax[1].plot(torch.arange(1, iterations + 1), loss_test, color=\"black\")\n",
    "ax[1].set_xlabel(\"Iterations\")\n",
    "ax[1].set_ylabel(\"Test Loss\")"
   ]
  }
 ],
 "metadata": {
  "kernelspec": {
   "display_name": "ml-0451",
   "language": "python",
   "name": "python3"
  },
  "language_info": {
   "codemirror_mode": {
    "name": "ipython",
    "version": 3
   },
   "file_extension": ".py",
   "mimetype": "text/x-python",
   "name": "python",
   "nbconvert_exporter": "python",
   "pygments_lexer": "ipython3",
   "version": "3.9.19"
  }
 },
 "nbformat": 4,
 "nbformat_minor": 5
}
