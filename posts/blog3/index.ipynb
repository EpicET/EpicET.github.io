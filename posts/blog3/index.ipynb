{
 "cells": [
  {
   "cell_type": "raw",
   "metadata": {
    "vscode": {
     "languageId": "raw"
    }
   },
   "source": [
    "---\n",
    "title: Auditing Bias\n",
    "author: Emmanuel Towner\n",
    "date: '2025-03-14'\n",
    "description: \"Blog Post 3\"\n",
    "format: html\n",
    "---"
   ]
  },
  {
   "cell_type": "markdown",
   "metadata": {},
   "source": [
    "# Auditing Bias\n",
    "\n",
    "## Abstract\n",
    "\n",
    "I analyze the predicition of employment status and audit for racial bias for residents of Massachussetts in 2023."
   ]
  },
  {
   "cell_type": "code",
   "execution_count": 53,
   "metadata": {},
   "outputs": [
    {
     "data": {
      "text/html": [
       "<div>\n",
       "<style scoped>\n",
       "    .dataframe tbody tr th:only-of-type {\n",
       "        vertical-align: middle;\n",
       "    }\n",
       "\n",
       "    .dataframe tbody tr th {\n",
       "        vertical-align: top;\n",
       "    }\n",
       "\n",
       "    .dataframe thead th {\n",
       "        text-align: right;\n",
       "    }\n",
       "</style>\n",
       "<table border=\"1\" class=\"dataframe\">\n",
       "  <thead>\n",
       "    <tr style=\"text-align: right;\">\n",
       "      <th></th>\n",
       "      <th>RT</th>\n",
       "      <th>SERIALNO</th>\n",
       "      <th>DIVISION</th>\n",
       "      <th>SPORDER</th>\n",
       "      <th>PUMA</th>\n",
       "      <th>REGION</th>\n",
       "      <th>STATE</th>\n",
       "      <th>ADJINC</th>\n",
       "      <th>PWGTP</th>\n",
       "      <th>AGEP</th>\n",
       "      <th>...</th>\n",
       "      <th>PWGTP71</th>\n",
       "      <th>PWGTP72</th>\n",
       "      <th>PWGTP73</th>\n",
       "      <th>PWGTP74</th>\n",
       "      <th>PWGTP75</th>\n",
       "      <th>PWGTP76</th>\n",
       "      <th>PWGTP77</th>\n",
       "      <th>PWGTP78</th>\n",
       "      <th>PWGTP79</th>\n",
       "      <th>PWGTP80</th>\n",
       "    </tr>\n",
       "  </thead>\n",
       "  <tbody>\n",
       "    <tr>\n",
       "      <th>0</th>\n",
       "      <td>P</td>\n",
       "      <td>2023GQ0000077</td>\n",
       "      <td>1</td>\n",
       "      <td>1</td>\n",
       "      <td>503</td>\n",
       "      <td>1</td>\n",
       "      <td>25</td>\n",
       "      <td>1019518</td>\n",
       "      <td>11</td>\n",
       "      <td>89</td>\n",
       "      <td>...</td>\n",
       "      <td>12</td>\n",
       "      <td>13</td>\n",
       "      <td>13</td>\n",
       "      <td>13</td>\n",
       "      <td>13</td>\n",
       "      <td>13</td>\n",
       "      <td>13</td>\n",
       "      <td>12</td>\n",
       "      <td>13</td>\n",
       "      <td>13</td>\n",
       "    </tr>\n",
       "    <tr>\n",
       "      <th>1</th>\n",
       "      <td>P</td>\n",
       "      <td>2023GQ0000098</td>\n",
       "      <td>1</td>\n",
       "      <td>1</td>\n",
       "      <td>613</td>\n",
       "      <td>1</td>\n",
       "      <td>25</td>\n",
       "      <td>1019518</td>\n",
       "      <td>11</td>\n",
       "      <td>20</td>\n",
       "      <td>...</td>\n",
       "      <td>3</td>\n",
       "      <td>4</td>\n",
       "      <td>2</td>\n",
       "      <td>20</td>\n",
       "      <td>13</td>\n",
       "      <td>9</td>\n",
       "      <td>2</td>\n",
       "      <td>20</td>\n",
       "      <td>13</td>\n",
       "      <td>2</td>\n",
       "    </tr>\n",
       "    <tr>\n",
       "      <th>2</th>\n",
       "      <td>P</td>\n",
       "      <td>2023GQ0000109</td>\n",
       "      <td>1</td>\n",
       "      <td>1</td>\n",
       "      <td>613</td>\n",
       "      <td>1</td>\n",
       "      <td>25</td>\n",
       "      <td>1019518</td>\n",
       "      <td>80</td>\n",
       "      <td>68</td>\n",
       "      <td>...</td>\n",
       "      <td>28</td>\n",
       "      <td>34</td>\n",
       "      <td>78</td>\n",
       "      <td>73</td>\n",
       "      <td>34</td>\n",
       "      <td>68</td>\n",
       "      <td>82</td>\n",
       "      <td>15</td>\n",
       "      <td>17</td>\n",
       "      <td>79</td>\n",
       "    </tr>\n",
       "    <tr>\n",
       "      <th>3</th>\n",
       "      <td>P</td>\n",
       "      <td>2023GQ0000114</td>\n",
       "      <td>1</td>\n",
       "      <td>1</td>\n",
       "      <td>801</td>\n",
       "      <td>1</td>\n",
       "      <td>25</td>\n",
       "      <td>1019518</td>\n",
       "      <td>69</td>\n",
       "      <td>21</td>\n",
       "      <td>...</td>\n",
       "      <td>60</td>\n",
       "      <td>74</td>\n",
       "      <td>161</td>\n",
       "      <td>11</td>\n",
       "      <td>127</td>\n",
       "      <td>57</td>\n",
       "      <td>11</td>\n",
       "      <td>12</td>\n",
       "      <td>11</td>\n",
       "      <td>12</td>\n",
       "    </tr>\n",
       "    <tr>\n",
       "      <th>4</th>\n",
       "      <td>P</td>\n",
       "      <td>2023GQ0000135</td>\n",
       "      <td>1</td>\n",
       "      <td>1</td>\n",
       "      <td>1201</td>\n",
       "      <td>1</td>\n",
       "      <td>25</td>\n",
       "      <td>1019518</td>\n",
       "      <td>27</td>\n",
       "      <td>84</td>\n",
       "      <td>...</td>\n",
       "      <td>27</td>\n",
       "      <td>28</td>\n",
       "      <td>27</td>\n",
       "      <td>29</td>\n",
       "      <td>27</td>\n",
       "      <td>29</td>\n",
       "      <td>27</td>\n",
       "      <td>27</td>\n",
       "      <td>28</td>\n",
       "      <td>27</td>\n",
       "    </tr>\n",
       "  </tbody>\n",
       "</table>\n",
       "<p>5 rows × 287 columns</p>\n",
       "</div>"
      ],
      "text/plain": [
       "  RT       SERIALNO  DIVISION  SPORDER  PUMA  REGION  STATE   ADJINC  PWGTP  \\\n",
       "0  P  2023GQ0000077         1        1   503       1     25  1019518     11   \n",
       "1  P  2023GQ0000098         1        1   613       1     25  1019518     11   \n",
       "2  P  2023GQ0000109         1        1   613       1     25  1019518     80   \n",
       "3  P  2023GQ0000114         1        1   801       1     25  1019518     69   \n",
       "4  P  2023GQ0000135         1        1  1201       1     25  1019518     27   \n",
       "\n",
       "   AGEP  ...  PWGTP71  PWGTP72  PWGTP73  PWGTP74  PWGTP75  PWGTP76  PWGTP77  \\\n",
       "0    89  ...       12       13       13       13       13       13       13   \n",
       "1    20  ...        3        4        2       20       13        9        2   \n",
       "2    68  ...       28       34       78       73       34       68       82   \n",
       "3    21  ...       60       74      161       11      127       57       11   \n",
       "4    84  ...       27       28       27       29       27       29       27   \n",
       "\n",
       "   PWGTP78  PWGTP79  PWGTP80  \n",
       "0       12       13       13  \n",
       "1       20       13        2  \n",
       "2       15       17       79  \n",
       "3       12       11       12  \n",
       "4       27       28       27  \n",
       "\n",
       "[5 rows x 287 columns]"
      ]
     },
     "execution_count": 53,
     "metadata": {},
     "output_type": "execute_result"
    }
   ],
   "source": [
    "from folktables import ACSDataSource, ACSEmployment, BasicProblem, adult_filter\n",
    "import numpy as np\n",
    "\n",
    "STATE = \"MA\" # My state\n",
    "\n",
    "data_source = ACSDataSource(survey_year='2023', # Get more recent data\n",
    "                            horizon='1-Year', \n",
    "                            survey='person')\n",
    "\n",
    "acs_data = data_source.get_data(states=[STATE], download=True)\n",
    "\n",
    "acs_data.head()"
   ]
  },
  {
   "cell_type": "code",
   "execution_count": 54,
   "metadata": {},
   "outputs": [
    {
     "data": {
      "text/html": [
       "<div>\n",
       "<style scoped>\n",
       "    .dataframe tbody tr th:only-of-type {\n",
       "        vertical-align: middle;\n",
       "    }\n",
       "\n",
       "    .dataframe tbody tr th {\n",
       "        vertical-align: top;\n",
       "    }\n",
       "\n",
       "    .dataframe thead th {\n",
       "        text-align: right;\n",
       "    }\n",
       "</style>\n",
       "<table border=\"1\" class=\"dataframe\">\n",
       "  <thead>\n",
       "    <tr style=\"text-align: right;\">\n",
       "      <th></th>\n",
       "      <th>AGEP</th>\n",
       "      <th>SCHL</th>\n",
       "      <th>MAR</th>\n",
       "      <th>DIS</th>\n",
       "      <th>ESP</th>\n",
       "      <th>CIT</th>\n",
       "      <th>MIG</th>\n",
       "      <th>MIL</th>\n",
       "      <th>ANC</th>\n",
       "      <th>NATIVITY</th>\n",
       "      <th>DEAR</th>\n",
       "      <th>DEYE</th>\n",
       "      <th>DREM</th>\n",
       "      <th>SEX</th>\n",
       "      <th>RAC1P</th>\n",
       "      <th>ESR</th>\n",
       "    </tr>\n",
       "  </thead>\n",
       "  <tbody>\n",
       "    <tr>\n",
       "      <th>0</th>\n",
       "      <td>89</td>\n",
       "      <td>16.0</td>\n",
       "      <td>2</td>\n",
       "      <td>1</td>\n",
       "      <td>NaN</td>\n",
       "      <td>1</td>\n",
       "      <td>1.0</td>\n",
       "      <td>4.0</td>\n",
       "      <td>3</td>\n",
       "      <td>1</td>\n",
       "      <td>1</td>\n",
       "      <td>1</td>\n",
       "      <td>1.0</td>\n",
       "      <td>2</td>\n",
       "      <td>1</td>\n",
       "      <td>6.0</td>\n",
       "    </tr>\n",
       "    <tr>\n",
       "      <th>1</th>\n",
       "      <td>20</td>\n",
       "      <td>16.0</td>\n",
       "      <td>5</td>\n",
       "      <td>2</td>\n",
       "      <td>NaN</td>\n",
       "      <td>1</td>\n",
       "      <td>1.0</td>\n",
       "      <td>4.0</td>\n",
       "      <td>1</td>\n",
       "      <td>1</td>\n",
       "      <td>2</td>\n",
       "      <td>2</td>\n",
       "      <td>2.0</td>\n",
       "      <td>1</td>\n",
       "      <td>9</td>\n",
       "      <td>6.0</td>\n",
       "    </tr>\n",
       "    <tr>\n",
       "      <th>2</th>\n",
       "      <td>68</td>\n",
       "      <td>18.0</td>\n",
       "      <td>5</td>\n",
       "      <td>1</td>\n",
       "      <td>NaN</td>\n",
       "      <td>1</td>\n",
       "      <td>1.0</td>\n",
       "      <td>4.0</td>\n",
       "      <td>1</td>\n",
       "      <td>1</td>\n",
       "      <td>1</td>\n",
       "      <td>2</td>\n",
       "      <td>2.0</td>\n",
       "      <td>1</td>\n",
       "      <td>1</td>\n",
       "      <td>6.0</td>\n",
       "    </tr>\n",
       "    <tr>\n",
       "      <th>3</th>\n",
       "      <td>21</td>\n",
       "      <td>19.0</td>\n",
       "      <td>5</td>\n",
       "      <td>2</td>\n",
       "      <td>NaN</td>\n",
       "      <td>1</td>\n",
       "      <td>1.0</td>\n",
       "      <td>4.0</td>\n",
       "      <td>1</td>\n",
       "      <td>1</td>\n",
       "      <td>2</td>\n",
       "      <td>2</td>\n",
       "      <td>2.0</td>\n",
       "      <td>2</td>\n",
       "      <td>1</td>\n",
       "      <td>1.0</td>\n",
       "    </tr>\n",
       "    <tr>\n",
       "      <th>4</th>\n",
       "      <td>84</td>\n",
       "      <td>16.0</td>\n",
       "      <td>1</td>\n",
       "      <td>1</td>\n",
       "      <td>NaN</td>\n",
       "      <td>1</td>\n",
       "      <td>3.0</td>\n",
       "      <td>4.0</td>\n",
       "      <td>3</td>\n",
       "      <td>1</td>\n",
       "      <td>2</td>\n",
       "      <td>1</td>\n",
       "      <td>1.0</td>\n",
       "      <td>2</td>\n",
       "      <td>1</td>\n",
       "      <td>6.0</td>\n",
       "    </tr>\n",
       "  </tbody>\n",
       "</table>\n",
       "</div>"
      ],
      "text/plain": [
       "   AGEP  SCHL  MAR  DIS  ESP  CIT  MIG  MIL  ANC  NATIVITY  DEAR  DEYE  DREM  \\\n",
       "0    89  16.0    2    1  NaN    1  1.0  4.0    3         1     1     1   1.0   \n",
       "1    20  16.0    5    2  NaN    1  1.0  4.0    1         1     2     2   2.0   \n",
       "2    68  18.0    5    1  NaN    1  1.0  4.0    1         1     1     2   2.0   \n",
       "3    21  19.0    5    2  NaN    1  1.0  4.0    1         1     2     2   2.0   \n",
       "4    84  16.0    1    1  NaN    1  3.0  4.0    3         1     2     1   1.0   \n",
       "\n",
       "   SEX  RAC1P  ESR  \n",
       "0    2      1  6.0  \n",
       "1    1      9  6.0  \n",
       "2    1      1  6.0  \n",
       "3    2      1  1.0  \n",
       "4    2      1  6.0  "
      ]
     },
     "execution_count": 54,
     "metadata": {},
     "output_type": "execute_result"
    }
   ],
   "source": [
    "# No RELP avaiable \n",
    "possible_features=['AGEP', 'SCHL', 'MAR', 'DIS', 'ESP', 'CIT', 'MIG', 'MIL', 'ANC', 'NATIVITY', 'DEAR', 'DEYE', 'DREM', 'SEX', 'RAC1P', 'ESR']\n",
    "acs_data[possible_features].head()"
   ]
  },
  {
   "cell_type": "markdown",
   "metadata": {},
   "source": [
    "## Model\n",
    "\n",
    "### Feature selection And Data Split"
   ]
  },
  {
   "cell_type": "code",
   "execution_count": 55,
   "metadata": {},
   "outputs": [],
   "source": [
    "features_to_use = [f for f in possible_features if f not in [\"ESR\", \"RAC1P\"]]"
   ]
  },
  {
   "cell_type": "code",
   "execution_count": 56,
   "metadata": {},
   "outputs": [
    {
     "name": "stdout",
     "output_type": "stream",
     "text": [
      "(73126, 14)\n",
      "(73126,)\n",
      "(73126,)\n"
     ]
    }
   ],
   "source": [
    "EmploymentProblem = BasicProblem(\n",
    "    features=features_to_use,\n",
    "    target='ESR',\n",
    "    target_transform=lambda x: x == 1,\n",
    "    group='RAC1P',\n",
    "    preprocess=lambda x: x,\n",
    "    postprocess=lambda x: np.nan_to_num(x, -1),\n",
    ")\n",
    "\n",
    "features, label, group = EmploymentProblem.df_to_numpy(acs_data)\n",
    "\n",
    "for obj in [features, label, group]:\n",
    "  print(obj.shape)"
   ]
  },
  {
   "cell_type": "code",
   "execution_count": null,
   "metadata": {},
   "outputs": [],
   "source": [
    "from sklearn.model_selection import train_test_split\n",
    "\n",
    "X_train, X_test, y_train, y_test, group_train, group_test = train_test_split(\n",
    "    features, label, group, test_size=0.2, random_state=0)"
   ]
  },
  {
   "cell_type": "markdown",
   "metadata": {},
   "source": [
    "### Basic Descriptives"
   ]
  },
  {
   "cell_type": "code",
   "execution_count": 58,
   "metadata": {},
   "outputs": [
    {
     "data": {
      "text/html": [
       "<div>\n",
       "<style scoped>\n",
       "    .dataframe tbody tr th:only-of-type {\n",
       "        vertical-align: middle;\n",
       "    }\n",
       "\n",
       "    .dataframe tbody tr th {\n",
       "        vertical-align: top;\n",
       "    }\n",
       "\n",
       "    .dataframe thead th {\n",
       "        text-align: right;\n",
       "    }\n",
       "</style>\n",
       "<table border=\"1\" class=\"dataframe\">\n",
       "  <thead>\n",
       "    <tr style=\"text-align: right;\">\n",
       "      <th></th>\n",
       "      <th>AGEP</th>\n",
       "      <th>SCHL</th>\n",
       "      <th>MAR</th>\n",
       "      <th>DIS</th>\n",
       "      <th>ESP</th>\n",
       "      <th>CIT</th>\n",
       "      <th>MIG</th>\n",
       "      <th>MIL</th>\n",
       "      <th>ANC</th>\n",
       "      <th>NATIVITY</th>\n",
       "      <th>DEAR</th>\n",
       "      <th>DEYE</th>\n",
       "      <th>DREM</th>\n",
       "      <th>SEX</th>\n",
       "      <th>race</th>\n",
       "      <th>label</th>\n",
       "    </tr>\n",
       "  </thead>\n",
       "  <tbody>\n",
       "    <tr>\n",
       "      <th>0</th>\n",
       "      <td>69.0</td>\n",
       "      <td>19.0</td>\n",
       "      <td>1.0</td>\n",
       "      <td>2.0</td>\n",
       "      <td>0.0</td>\n",
       "      <td>1.0</td>\n",
       "      <td>1.0</td>\n",
       "      <td>4.0</td>\n",
       "      <td>1.0</td>\n",
       "      <td>1.0</td>\n",
       "      <td>2.0</td>\n",
       "      <td>2.0</td>\n",
       "      <td>2.0</td>\n",
       "      <td>2.0</td>\n",
       "      <td>1</td>\n",
       "      <td>False</td>\n",
       "    </tr>\n",
       "    <tr>\n",
       "      <th>1</th>\n",
       "      <td>10.0</td>\n",
       "      <td>7.0</td>\n",
       "      <td>5.0</td>\n",
       "      <td>2.0</td>\n",
       "      <td>1.0</td>\n",
       "      <td>1.0</td>\n",
       "      <td>1.0</td>\n",
       "      <td>0.0</td>\n",
       "      <td>4.0</td>\n",
       "      <td>1.0</td>\n",
       "      <td>2.0</td>\n",
       "      <td>2.0</td>\n",
       "      <td>2.0</td>\n",
       "      <td>1.0</td>\n",
       "      <td>1</td>\n",
       "      <td>False</td>\n",
       "    </tr>\n",
       "    <tr>\n",
       "      <th>2</th>\n",
       "      <td>14.0</td>\n",
       "      <td>10.0</td>\n",
       "      <td>5.0</td>\n",
       "      <td>1.0</td>\n",
       "      <td>1.0</td>\n",
       "      <td>1.0</td>\n",
       "      <td>1.0</td>\n",
       "      <td>0.0</td>\n",
       "      <td>2.0</td>\n",
       "      <td>1.0</td>\n",
       "      <td>2.0</td>\n",
       "      <td>2.0</td>\n",
       "      <td>1.0</td>\n",
       "      <td>1.0</td>\n",
       "      <td>8</td>\n",
       "      <td>False</td>\n",
       "    </tr>\n",
       "    <tr>\n",
       "      <th>3</th>\n",
       "      <td>55.0</td>\n",
       "      <td>1.0</td>\n",
       "      <td>5.0</td>\n",
       "      <td>2.0</td>\n",
       "      <td>0.0</td>\n",
       "      <td>4.0</td>\n",
       "      <td>1.0</td>\n",
       "      <td>4.0</td>\n",
       "      <td>2.0</td>\n",
       "      <td>2.0</td>\n",
       "      <td>2.0</td>\n",
       "      <td>2.0</td>\n",
       "      <td>2.0</td>\n",
       "      <td>1.0</td>\n",
       "      <td>1</td>\n",
       "      <td>True</td>\n",
       "    </tr>\n",
       "    <tr>\n",
       "      <th>4</th>\n",
       "      <td>42.0</td>\n",
       "      <td>23.0</td>\n",
       "      <td>5.0</td>\n",
       "      <td>2.0</td>\n",
       "      <td>0.0</td>\n",
       "      <td>1.0</td>\n",
       "      <td>1.0</td>\n",
       "      <td>4.0</td>\n",
       "      <td>2.0</td>\n",
       "      <td>1.0</td>\n",
       "      <td>2.0</td>\n",
       "      <td>2.0</td>\n",
       "      <td>2.0</td>\n",
       "      <td>1.0</td>\n",
       "      <td>1</td>\n",
       "      <td>True</td>\n",
       "    </tr>\n",
       "  </tbody>\n",
       "</table>\n",
       "</div>"
      ],
      "text/plain": [
       "   AGEP  SCHL  MAR  DIS  ESP  CIT  MIG  MIL  ANC  NATIVITY  DEAR  DEYE  DREM  \\\n",
       "0  69.0  19.0  1.0  2.0  0.0  1.0  1.0  4.0  1.0       1.0   2.0   2.0   2.0   \n",
       "1  10.0   7.0  5.0  2.0  1.0  1.0  1.0  0.0  4.0       1.0   2.0   2.0   2.0   \n",
       "2  14.0  10.0  5.0  1.0  1.0  1.0  1.0  0.0  2.0       1.0   2.0   2.0   1.0   \n",
       "3  55.0   1.0  5.0  2.0  0.0  4.0  1.0  4.0  2.0       2.0   2.0   2.0   2.0   \n",
       "4  42.0  23.0  5.0  2.0  0.0  1.0  1.0  4.0  2.0       1.0   2.0   2.0   2.0   \n",
       "\n",
       "   SEX  race  label  \n",
       "0  2.0     1  False  \n",
       "1  1.0     1  False  \n",
       "2  1.0     8  False  \n",
       "3  1.0     1   True  \n",
       "4  1.0     1   True  "
      ]
     },
     "execution_count": 58,
     "metadata": {},
     "output_type": "execute_result"
    }
   ],
   "source": [
    "\n",
    "import pandas as pd\n",
    "df = pd.DataFrame(X_train, columns = features_to_use)\n",
    "df[\"race\"] = group_train\n",
    "df[\"label\"] = y_train\n",
    "\n",
    "\n",
    "df.head()\n"
   ]
  },
  {
   "cell_type": "markdown",
   "metadata": {},
   "source": [
    "1. The number of indiviuals in this df are"
   ]
  },
  {
   "cell_type": "code",
   "execution_count": 59,
   "metadata": {},
   "outputs": [
    {
     "name": "stdout",
     "output_type": "stream",
     "text": [
      "The number of indiviuals in this df are 58500\n"
     ]
    }
   ],
   "source": [
    "print(\"The number of indiviuals in this df are\", df.shape[0])"
   ]
  },
  {
   "cell_type": "markdown",
   "metadata": {},
   "source": [
    "2. The proportion of employed individuals are "
   ]
  },
  {
   "cell_type": "code",
   "execution_count": 60,
   "metadata": {},
   "outputs": [
    {
     "name": "stdout",
     "output_type": "stream",
     "text": [
      "The proportion of employed indiviuals are 0.5077435897435898\n"
     ]
    }
   ],
   "source": [
    "emp = df[df['label'] == True][[\"label\"]].size # 29703\n",
    "total = df['label'].size # 58500\n",
    "emp_prop = emp / total\n",
    "print(\"The proportion of employed indiviuals are\", emp_prop)"
   ]
  },
  {
   "cell_type": "markdown",
   "metadata": {},
   "source": [
    "3. The proportion of employed people in each group are:"
   ]
  },
  {
   "cell_type": "code",
   "execution_count": 61,
   "metadata": {},
   "outputs": [
    {
     "data": {
      "text/html": [
       "<div>\n",
       "<style scoped>\n",
       "    .dataframe tbody tr th:only-of-type {\n",
       "        vertical-align: middle;\n",
       "    }\n",
       "\n",
       "    .dataframe tbody tr th {\n",
       "        vertical-align: top;\n",
       "    }\n",
       "\n",
       "    .dataframe thead th {\n",
       "        text-align: right;\n",
       "    }\n",
       "</style>\n",
       "<table border=\"1\" class=\"dataframe\">\n",
       "  <thead>\n",
       "    <tr style=\"text-align: right;\">\n",
       "      <th></th>\n",
       "      <th>label</th>\n",
       "    </tr>\n",
       "    <tr>\n",
       "      <th>race</th>\n",
       "      <th></th>\n",
       "    </tr>\n",
       "  </thead>\n",
       "  <tbody>\n",
       "    <tr>\n",
       "      <th>1</th>\n",
       "      <td>0.514687</td>\n",
       "    </tr>\n",
       "    <tr>\n",
       "      <th>2</th>\n",
       "      <td>0.473668</td>\n",
       "    </tr>\n",
       "    <tr>\n",
       "      <th>3</th>\n",
       "      <td>0.530612</td>\n",
       "    </tr>\n",
       "    <tr>\n",
       "      <th>5</th>\n",
       "      <td>0.520000</td>\n",
       "    </tr>\n",
       "    <tr>\n",
       "      <th>6</th>\n",
       "      <td>0.540315</td>\n",
       "    </tr>\n",
       "    <tr>\n",
       "      <th>7</th>\n",
       "      <td>0.625000</td>\n",
       "    </tr>\n",
       "    <tr>\n",
       "      <th>8</th>\n",
       "      <td>0.486364</td>\n",
       "    </tr>\n",
       "    <tr>\n",
       "      <th>9</th>\n",
       "      <td>0.456270</td>\n",
       "    </tr>\n",
       "  </tbody>\n",
       "</table>\n",
       "</div>"
      ],
      "text/plain": [
       "         label\n",
       "race          \n",
       "1     0.514687\n",
       "2     0.473668\n",
       "3     0.530612\n",
       "5     0.520000\n",
       "6     0.540315\n",
       "7     0.625000\n",
       "8     0.486364\n",
       "9     0.456270"
      ]
     },
     "execution_count": 61,
     "metadata": {},
     "output_type": "execute_result"
    }
   ],
   "source": [
    "df.groupby('race')[['label']].aggregate('mean')"
   ]
  },
  {
   "cell_type": "markdown",
   "metadata": {},
   "source": [
    "4. Intersectional Trends"
   ]
  },
  {
   "cell_type": "code",
   "execution_count": 62,
   "metadata": {},
   "outputs": [
    {
     "data": {
      "text/plain": [
       "Text(0, 0.5, 'Employment')"
      ]
     },
     "execution_count": 62,
     "metadata": {},
     "output_type": "execute_result"
    },
    {
     "data": {
      "image/png": "[encoded data removed]",
      "text/plain": [
       "<Figure size 1000x400 with 2 Axes>"
      ]
     },
     "metadata": {},
     "output_type": "display_data"
    }
   ],
   "source": [
    "import seaborn as sns\n",
    "from matplotlib import pyplot as plt\n",
    "\n",
    "fig, ax = plt.subplots(1, 2, figsize = (10, 4))\n",
    "\n",
    "plt1 = sns.barplot(df, x = \"race\", y = \"label\", hue=\"SEX\", ax=ax[0])\n",
    "plt1.set_xlabel(\"Race\")\n",
    "plt1.set_ylabel(\"Employment\")\n",
    "\n",
    "\n",
    "plt2 = sns.barplot(df, x = \"race\", y = \"label\", hue=\"DIS\", ax=ax[1])\n",
    "plt2.set_xlabel(\"Race\")\n",
    "plt2.set_ylabel(\"Employment\")\n"
   ]
  },
  {
   "cell_type": "markdown",
   "metadata": {},
   "source": [
    "In this we see intersectionality between sex of the person and whether they have a disability. As we can see in both graphs generally male and able bodied people are more likely to be employed. It is important to recogonize that we also I'm not sure how many of both groups. More females are more likely to be doing childcare at home and depending on disability people may not apply for jobs at all. It is interesting that for American Indians and Alaskan Natives more women are employed than men. "
   ]
  },
  {
   "cell_type": "code",
   "execution_count": 63,
   "metadata": {},
   "outputs": [
    {
     "data": {
      "text/plain": [
       "Text(0, 0.5, 'Employment')"
      ]
     },
     "execution_count": 63,
     "metadata": {},
     "output_type": "execute_result"
    },
    {
     "data": {
      "image/png": "[encoded data removed]",
      "text/plain": [
       "<Figure size 640x480 with 1 Axes>"
      ]
     },
     "metadata": {},
     "output_type": "display_data"
    }
   ],
   "source": [
    "plt2 = sns.barplot(df, x = \"race\", y = \"label\", hue=\"CIT\")\n",
    "plt2.set_xlabel(\"Race\")\n",
    "plt2.set_ylabel(\"Employment\")\n"
   ]
  },
  {
   "cell_type": "markdown",
   "metadata": {},
   "source": [
    "In this graph, we see that for people born in the U.S or it's territories have lower percentage employment than people born abroad or by naturalization. I suspect this is due to population numbers and people who move here for specific work purposes.   "
   ]
  },
  {
   "cell_type": "markdown",
   "metadata": {},
   "source": [
    "### Training Model\n",
    "\n",
    "Used a decision tree classifier becauses it is among the easier to interepret and no need to for"
   ]
  },
  {
   "cell_type": "code",
   "execution_count": 64,
   "metadata": {},
   "outputs": [
    {
     "name": "stdout",
     "output_type": "stream",
     "text": [
      "Best params {'max_depth': 10}\n"
     ]
    },
    {
     "data": {
      "text/plain": [
       "0.8346495726495726"
      ]
     },
     "execution_count": 64,
     "metadata": {},
     "output_type": "execute_result"
    }
   ],
   "source": [
    "from sklearn.tree import DecisionTreeClassifier \n",
    "from sklearn.model_selection import GridSearchCV\n",
    "from sklearn.metrics import confusion_matrix\n",
    "\n",
    "param_grid = {\n",
    "    'max_depth': [1, 3, 5, 10]\n",
    "}\n",
    "\n",
    "model = DecisionTreeClassifier() \n",
    "grid = GridSearchCV(model, param_grid, scoring=\"accuracy\")\n",
    "grid.fit(X_train, y_train)\n",
    "\n",
    "print(\"Best params\", grid.best_params_)\n",
    "\n",
    "best_dtree = grid.best_estimator_\n",
    "\n",
    "best_dtree.predict(X_train)\n",
    "best_dtree.score(X_train, y_train)"
   ]
  },
  {
   "cell_type": "markdown",
   "metadata": {},
   "source": [
    "### Testing model"
   ]
  },
  {
   "cell_type": "code",
   "execution_count": 103,
   "metadata": {},
   "outputs": [
    {
     "data": {
      "text/plain": [
       "array([[5585, 1667],\n",
       "       [ 932, 6442]])"
      ]
     },
     "execution_count": 103,
     "metadata": {},
     "output_type": "execute_result"
    }
   ],
   "source": [
    "pred = best_dtree.predict(X_test)\n",
    "confusion_matrix(y_test, pred)"
   ]
  },
  {
   "cell_type": "markdown",
   "metadata": {},
   "source": [
    "# Bias Audit"
   ]
  },
  {
   "cell_type": "markdown",
   "metadata": {},
   "source": [
    "### Overall Measures"
   ]
  },
  {
   "cell_type": "markdown",
   "metadata": {},
   "source": [
    "The overall accuracy:"
   ]
  },
  {
   "cell_type": "code",
   "execution_count": 66,
   "metadata": {},
   "outputs": [
    {
     "data": {
      "text/plain": [
       "np.float64(0.8223027485300151)"
      ]
     },
     "execution_count": 66,
     "metadata": {},
     "output_type": "execute_result"
    }
   ],
   "source": [
    "(pred == y_test).mean()"
   ]
  },
  {
   "cell_type": "markdown",
   "metadata": {},
   "source": [
    "Here we calculate the PPV, the false negative and false positive rate"
   ]
  },
  {
   "cell_type": "code",
   "execution_count": 67,
   "metadata": {},
   "outputs": [
    {
     "name": "stdout",
     "output_type": "stream",
     "text": [
      "Overall PPV: 0.7944259464792206\n",
      "Overall false negative rate: 0.12639001898562516\n",
      "Overall false positive rate: 0.5356281699509438\n"
     ]
    }
   ],
   "source": [
    "tn, fp, fn, tp = confusion_matrix(y_test, pred).ravel()\n",
    "\n",
    "ppv = tp / (tp + fp)\n",
    "fnr = fn / (fn + tp)\n",
    "fpr = tp / (tp + tn)\n",
    "\n",
    "print(\"Overall PPV:\", ppv)\n",
    "print(\"Overall false negative rate:\", fnr)\n",
    "print(\"Overall false positive rate:\", fpr)\n"
   ]
  },
  {
   "cell_type": "markdown",
   "metadata": {},
   "source": [
    "### By-Group Measures"
   ]
  },
  {
   "cell_type": "markdown",
   "metadata": {},
   "source": [
    "This is the accuracy by group:"
   ]
  },
  {
   "cell_type": "code",
   "execution_count": 86,
   "metadata": {},
   "outputs": [
    {
     "data": {
      "text/html": [
       "<div>\n",
       "<style scoped>\n",
       "    .dataframe tbody tr th:only-of-type {\n",
       "        vertical-align: middle;\n",
       "    }\n",
       "\n",
       "    .dataframe tbody tr th {\n",
       "        vertical-align: top;\n",
       "    }\n",
       "\n",
       "    .dataframe thead th {\n",
       "        text-align: right;\n",
       "    }\n",
       "</style>\n",
       "<table border=\"1\" class=\"dataframe\">\n",
       "  <thead>\n",
       "    <tr style=\"text-align: right;\">\n",
       "      <th></th>\n",
       "      <th>race</th>\n",
       "      <th>accuracy</th>\n",
       "    </tr>\n",
       "  </thead>\n",
       "  <tbody>\n",
       "    <tr>\n",
       "      <th>0</th>\n",
       "      <td>1</td>\n",
       "      <td>0.824527</td>\n",
       "    </tr>\n",
       "    <tr>\n",
       "      <th>1</th>\n",
       "      <td>8</td>\n",
       "      <td>0.808511</td>\n",
       "    </tr>\n",
       "    <tr>\n",
       "      <th>2</th>\n",
       "      <td>9</td>\n",
       "      <td>0.825095</td>\n",
       "    </tr>\n",
       "    <tr>\n",
       "      <th>3</th>\n",
       "      <td>2</td>\n",
       "      <td>0.799747</td>\n",
       "    </tr>\n",
       "    <tr>\n",
       "      <th>4</th>\n",
       "      <td>6</td>\n",
       "      <td>0.821859</td>\n",
       "    </tr>\n",
       "    <tr>\n",
       "      <th>5</th>\n",
       "      <td>7</td>\n",
       "      <td>0.500000</td>\n",
       "    </tr>\n",
       "    <tr>\n",
       "      <th>6</th>\n",
       "      <td>5</td>\n",
       "      <td>1.000000</td>\n",
       "    </tr>\n",
       "    <tr>\n",
       "      <th>7</th>\n",
       "      <td>3</td>\n",
       "      <td>0.843750</td>\n",
       "    </tr>\n",
       "  </tbody>\n",
       "</table>\n",
       "</div>"
      ],
      "text/plain": [
       "   race  accuracy\n",
       "0     1  0.824527\n",
       "1     8  0.808511\n",
       "2     9  0.825095\n",
       "3     2  0.799747\n",
       "4     6  0.821859\n",
       "5     7  0.500000\n",
       "6     5  1.000000\n",
       "7     3  0.843750"
      ]
     },
     "execution_count": 86,
     "metadata": {},
     "output_type": "execute_result"
    }
   ],
   "source": [
    "groups = df[\"race\"].unique()\n",
    "audit = pd.DataFrame(groups, columns=[\"race\"])\n",
    "\n",
    "accuracies = []\n",
    "for group in groups:\n",
    "   accuracy = (pred == y_test)[group_test == group].mean()\n",
    "   accuracies.append(accuracy)\n",
    "\n",
    "audit[\"accuracy\"] = accuracies\n",
    "audit\n"
   ]
  },
  {
   "cell_type": "markdown",
   "metadata": {},
   "source": [
    "This is the PPV, the false negative and false positive rate by group:"
   ]
  },
  {
   "cell_type": "code",
   "execution_count": 87,
   "metadata": {},
   "outputs": [
    {
     "data": {
      "text/html": [
       "<div>\n",
       "<style scoped>\n",
       "    .dataframe tbody tr th:only-of-type {\n",
       "        vertical-align: middle;\n",
       "    }\n",
       "\n",
       "    .dataframe tbody tr th {\n",
       "        vertical-align: top;\n",
       "    }\n",
       "\n",
       "    .dataframe thead th {\n",
       "        text-align: right;\n",
       "    }\n",
       "</style>\n",
       "<table border=\"1\" class=\"dataframe\">\n",
       "  <thead>\n",
       "    <tr style=\"text-align: right;\">\n",
       "      <th></th>\n",
       "      <th>accuracy</th>\n",
       "      <th>ppv</th>\n",
       "      <th>tpr</th>\n",
       "      <th>tnr</th>\n",
       "      <th>fpr</th>\n",
       "      <th>fnr</th>\n",
       "    </tr>\n",
       "    <tr>\n",
       "      <th>race</th>\n",
       "      <th></th>\n",
       "      <th></th>\n",
       "      <th></th>\n",
       "      <th></th>\n",
       "      <th></th>\n",
       "      <th></th>\n",
       "    </tr>\n",
       "  </thead>\n",
       "  <tbody>\n",
       "    <tr>\n",
       "      <th>1</th>\n",
       "      <td>0.824527</td>\n",
       "      <td>0.802766</td>\n",
       "      <td>0.869107</td>\n",
       "      <td>0.778226</td>\n",
       "      <td>0.221774</td>\n",
       "      <td>0.130893</td>\n",
       "    </tr>\n",
       "    <tr>\n",
       "      <th>2</th>\n",
       "      <td>0.799747</td>\n",
       "      <td>0.739631</td>\n",
       "      <td>0.877049</td>\n",
       "      <td>0.732861</td>\n",
       "      <td>0.267139</td>\n",
       "      <td>0.122951</td>\n",
       "    </tr>\n",
       "    <tr>\n",
       "      <th>3</th>\n",
       "      <td>0.843750</td>\n",
       "      <td>0.666667</td>\n",
       "      <td>1.000000</td>\n",
       "      <td>0.772727</td>\n",
       "      <td>0.227273</td>\n",
       "      <td>0.000000</td>\n",
       "    </tr>\n",
       "    <tr>\n",
       "      <th>5</th>\n",
       "      <td>1.000000</td>\n",
       "      <td>0.000000</td>\n",
       "      <td>0.000000</td>\n",
       "      <td>1.000000</td>\n",
       "      <td>0.000000</td>\n",
       "      <td>0.000000</td>\n",
       "    </tr>\n",
       "    <tr>\n",
       "      <th>6</th>\n",
       "      <td>0.821859</td>\n",
       "      <td>0.807588</td>\n",
       "      <td>0.901664</td>\n",
       "      <td>0.716567</td>\n",
       "      <td>0.283433</td>\n",
       "      <td>0.098336</td>\n",
       "    </tr>\n",
       "    <tr>\n",
       "      <th>7</th>\n",
       "      <td>0.500000</td>\n",
       "      <td>0.000000</td>\n",
       "      <td>0.000000</td>\n",
       "      <td>1.000000</td>\n",
       "      <td>0.000000</td>\n",
       "      <td>1.000000</td>\n",
       "    </tr>\n",
       "    <tr>\n",
       "      <th>8</th>\n",
       "      <td>0.808511</td>\n",
       "      <td>0.752525</td>\n",
       "      <td>0.889552</td>\n",
       "      <td>0.735135</td>\n",
       "      <td>0.264865</td>\n",
       "      <td>0.110448</td>\n",
       "    </tr>\n",
       "    <tr>\n",
       "      <th>9</th>\n",
       "      <td>0.825095</td>\n",
       "      <td>0.770149</td>\n",
       "      <td>0.871622</td>\n",
       "      <td>0.786999</td>\n",
       "      <td>0.213001</td>\n",
       "      <td>0.128378</td>\n",
       "    </tr>\n",
       "  </tbody>\n",
       "</table>\n",
       "</div>"
      ],
      "text/plain": [
       "      accuracy       ppv       tpr       tnr       fpr       fnr\n",
       "race                                                            \n",
       "1     0.824527  0.802766  0.869107  0.778226  0.221774  0.130893\n",
       "2     0.799747  0.739631  0.877049  0.732861  0.267139  0.122951\n",
       "3     0.843750  0.666667  1.000000  0.772727  0.227273  0.000000\n",
       "5     1.000000  0.000000  0.000000  1.000000  0.000000  0.000000\n",
       "6     0.821859  0.807588  0.901664  0.716567  0.283433  0.098336\n",
       "7     0.500000  0.000000  0.000000  1.000000  0.000000  1.000000\n",
       "8     0.808511  0.752525  0.889552  0.735135  0.264865  0.110448\n",
       "9     0.825095  0.770149  0.871622  0.786999  0.213001  0.128378"
      ]
     },
     "execution_count": 87,
     "metadata": {},
     "output_type": "execute_result"
    }
   ],
   "source": [
    "ppvs = []\n",
    "tprs = []\n",
    "tnrs = []\n",
    "\n",
    "fnrs = []\n",
    "fprs = []\n",
    "\n",
    "for group in groups:\n",
    "    tp = int(0)\n",
    "    fp = int(0)\n",
    "    tn = int(0)\n",
    "    fn = int(0)\n",
    "    for n, m, grp in zip(y_test, pred, group_test):\n",
    "        if(grp == group):\n",
    "            if m == n:\n",
    "                if n == True:\n",
    "                    tp += 1\n",
    "                if n == False:\n",
    "                    tn += 1\n",
    "            if m != n:\n",
    "                if n == True:\n",
    "                    fn += 1\n",
    "                if n == False:\n",
    "                    fp += 1\n",
    "    ppv = ppv = tp / (tp + fp) if (tp + fp) > 0 else 0\n",
    "    ppvs.append(ppv)\n",
    "    fnr = fn / (fn + tp)  if (fn + tp) > 0 else 0\n",
    "    fnrs.append(fnr)\n",
    "    fpr = fp / (fp + tn) if (fp + tn) > 0 else 0 \n",
    "    fprs.append(fpr)\n",
    "    tpr = tp / (tp + fn) if (tp + fn) > 0 else 0\n",
    "    tprs.append(tpr)\n",
    "    tnr = tn / (tn + fp) if (tn + fp) > 0 else 0\n",
    "    tnrs.append(tnr)\n",
    "    \n",
    "\n",
    "audit[\"ppv\"] = ppvs\n",
    "audit[\"tpr\"] = tprs\n",
    "audit[\"tnr\"] = tnrs\n",
    "audit[\"fpr\"] = fprs\n",
    "audit[\"fnr\"] = fnrs\n",
    "audit.set_index(\"race\", inplace=True)\n",
    "audit.sort_index(inplace=True)\n",
    "audit\n",
    "\n"
   ]
  },
  {
   "cell_type": "markdown",
   "metadata": {},
   "source": [
    "### Bias Measures\n",
    "\n",
    "Approximately calibrated:"
   ]
  },
  {
   "cell_type": "code",
   "execution_count": 90,
   "metadata": {},
   "outputs": [
    {
     "data": {
      "text/html": [
       "<div>\n",
       "<style scoped>\n",
       "    .dataframe tbody tr th:only-of-type {\n",
       "        vertical-align: middle;\n",
       "    }\n",
       "\n",
       "    .dataframe tbody tr th {\n",
       "        vertical-align: top;\n",
       "    }\n",
       "\n",
       "    .dataframe thead th {\n",
       "        text-align: right;\n",
       "    }\n",
       "</style>\n",
       "<table border=\"1\" class=\"dataframe\">\n",
       "  <thead>\n",
       "    <tr style=\"text-align: right;\">\n",
       "      <th></th>\n",
       "      <th>0</th>\n",
       "    </tr>\n",
       "    <tr>\n",
       "      <th>prediction</th>\n",
       "      <th></th>\n",
       "    </tr>\n",
       "  </thead>\n",
       "  <tbody>\n",
       "    <tr>\n",
       "      <th>False</th>\n",
       "      <td>6517</td>\n",
       "    </tr>\n",
       "    <tr>\n",
       "      <th>True</th>\n",
       "      <td>8109</td>\n",
       "    </tr>\n",
       "  </tbody>\n",
       "</table>\n",
       "</div>"
      ],
      "text/plain": [
       "               0\n",
       "prediction      \n",
       "False       6517\n",
       "True        8109"
      ]
     },
     "execution_count": 90,
     "metadata": {},
     "output_type": "execute_result"
    }
   ],
   "source": [
    "cal = pd.DataFrame(pred)\n",
    "cal[\"prediction\"] = pred\n",
    "cal.groupby(\"prediction\").count()"
   ]
  },
  {
   "cell_type": "markdown",
   "metadata": {},
   "source": [
    "This table shows that values either True or False, therefore they this model is calibrated."
   ]
  },
  {
   "cell_type": "markdown",
   "metadata": {},
   "source": [
    "Approximate error balance rate: Looking at the table dataframe above we can see that the model does not meet approximate error rate balance for groups."
   ]
  },
  {
   "cell_type": "markdown",
   "metadata": {},
   "source": [
    "Statistical parity:"
   ]
  },
  {
   "cell_type": "code",
   "execution_count": 91,
   "metadata": {},
   "outputs": [
    {
     "data": {
      "text/html": [
       "<div>\n",
       "<style scoped>\n",
       "    .dataframe tbody tr th:only-of-type {\n",
       "        vertical-align: middle;\n",
       "    }\n",
       "\n",
       "    .dataframe tbody tr th {\n",
       "        vertical-align: top;\n",
       "    }\n",
       "\n",
       "    .dataframe thead th {\n",
       "        text-align: right;\n",
       "    }\n",
       "</style>\n",
       "<table border=\"1\" class=\"dataframe\">\n",
       "  <thead>\n",
       "    <tr style=\"text-align: right;\">\n",
       "      <th></th>\n",
       "      <th>prob</th>\n",
       "    </tr>\n",
       "    <tr>\n",
       "      <th>race</th>\n",
       "      <th></th>\n",
       "    </tr>\n",
       "  </thead>\n",
       "  <tbody>\n",
       "    <tr>\n",
       "      <th>1</th>\n",
       "      <td>0.551568</td>\n",
       "    </tr>\n",
       "    <tr>\n",
       "      <th>2</th>\n",
       "      <td>0.550063</td>\n",
       "    </tr>\n",
       "    <tr>\n",
       "      <th>3</th>\n",
       "      <td>0.468750</td>\n",
       "    </tr>\n",
       "    <tr>\n",
       "      <th>5</th>\n",
       "      <td>0.000000</td>\n",
       "    </tr>\n",
       "    <tr>\n",
       "      <th>6</th>\n",
       "      <td>0.635112</td>\n",
       "    </tr>\n",
       "    <tr>\n",
       "      <th>7</th>\n",
       "      <td>0.000000</td>\n",
       "    </tr>\n",
       "    <tr>\n",
       "      <th>8</th>\n",
       "      <td>0.561702</td>\n",
       "    </tr>\n",
       "    <tr>\n",
       "      <th>9</th>\n",
       "      <td>0.509506</td>\n",
       "    </tr>\n",
       "  </tbody>\n",
       "</table>\n",
       "</div>"
      ],
      "text/plain": [
       "          prob\n",
       "race          \n",
       "1     0.551568\n",
       "2     0.550063\n",
       "3     0.468750\n",
       "5     0.000000\n",
       "6     0.635112\n",
       "7     0.000000\n",
       "8     0.561702\n",
       "9     0.509506"
      ]
     },
     "execution_count": 91,
     "metadata": {},
     "output_type": "execute_result"
    }
   ],
   "source": [
    "probs = []\n",
    "for group in groups:\n",
    "    prob = (pred == True)[group_test == group].mean()\n",
    "    probs.append(prob)\n",
    "\n",
    "ind = pd.DataFrame(groups, columns=[\"race\"])\n",
    "ind[\"prob\"] = probs\n",
    "ind.set_index(\"race\", inplace=True)\n",
    "ind.sort_index(inplace=True)\n",
    "ind"
   ]
  },
  {
   "cell_type": "markdown",
   "metadata": {},
   "source": [
    "The model does not meet statistical parity."
   ]
  },
  {
   "cell_type": "markdown",
   "metadata": {},
   "source": [
    "$$\n",
    "\\begin{aligned}\n",
    "    \\mathrm{FPR} = \\frac{p}{1-p}\\frac{1 - \\mathrm{PPV}}{\\mathrm{PPV}}\\left(1 - \\mathrm{TPR}\\right) \\;. \n",
    "\\end{aligned}\n",
    "$$"
   ]
  },
  {
   "cell_type": "markdown",
   "metadata": {},
   "source": [
    "$$\n",
    "\\begin{aligned}\n",
    "    p = \\left(1 + \\frac{\\mathrm{TPR}}{\\mathrm{FPR}} \\frac{1 - \\mathrm{PPV}}{\\mathrm{PPV}}\\right)^{-1}\\;. \n",
    "\\end{aligned}\n",
    "$${#eq-rearranged-for-p}"
   ]
  },
  {
   "cell_type": "code",
   "execution_count": 92,
   "metadata": {},
   "outputs": [
    {
     "name": "stdout",
     "output_type": "stream",
     "text": [
      "   race  accuracy       ppv       tpr       tnr       fpr       fnr\n",
      "0     1  0.824527  0.802766  0.869107  0.778226  0.221774  0.130893\n",
      "1     2  0.799747  0.739631  0.877049  0.732861  0.267139  0.122951\n",
      "2     3  0.843750  0.666667  1.000000  0.772727  0.227273  0.000000\n",
      "3     5  1.000000  0.000000  0.000000  1.000000  0.000000  0.000000\n",
      "4     6  0.821859  0.807588  0.901664  0.716567  0.283433  0.098336\n",
      "5     7  0.500000  0.000000  0.000000  1.000000  0.000000  1.000000\n",
      "6     8  0.808511  0.752525  0.889552  0.735135  0.264865  0.110448\n",
      "7     9  0.825095  0.770149  0.871622  0.786999  0.213001  0.128378\n"
     ]
    }
   ],
   "source": [
    "audit.reset_index(inplace=True)\n",
    "print(audit)"
   ]
  },
  {
   "cell_type": "code",
   "execution_count": 93,
   "metadata": {},
   "outputs": [],
   "source": [
    "audit[\"prevalance\"] = (1 + (audit[\"tpr\"] / audit[\"fpr\"]) * ((1 - audit[\"ppv\"])/(audit[\"ppv\"]))) ** -1\n",
    "audit[\"prevalance\"] = audit[\"prevalance\"].fillna(0)\n"
   ]
  },
  {
   "cell_type": "code",
   "execution_count": null,
   "metadata": {},
   "outputs": [
    {
     "name": "stdout",
     "output_type": "stream",
     "text": [
      "              race  accuracy       ppv       tpr       tnr       fpr  \\\n",
      "0            White  0.824527  0.802766  0.869107  0.778226  0.221774   \n",
      "1            Black  0.799747  0.739631  0.877049  0.732861  0.267139   \n",
      "2  Native American  0.843750  0.666667  1.000000  0.772727  0.227273   \n",
      "3             SPAA  1.000000  0.000000  0.000000  1.000000  0.000000   \n",
      "4            Asian  0.821859  0.807588  0.901664  0.716567  0.283433   \n",
      "5              NPI  0.500000  0.000000  0.000000  1.000000  0.000000   \n",
      "6            Other  0.808511  0.752525  0.889552  0.735135  0.264865   \n",
      "7            Multi  0.825095  0.770149  0.871622  0.786999  0.213001   \n",
      "\n",
      "        fnr  prevalance  \n",
      "0  0.130893    0.509466  \n",
      "1  0.122951    0.463878  \n",
      "2  0.000000    0.312500  \n",
      "3  0.000000    0.000000  \n",
      "4  0.098336    0.568847  \n",
      "5  1.000000    0.000000  \n",
      "6  0.110448    0.475177  \n",
      "7  0.128378    0.450190  \n"
     ]
    }
   ],
   "source": [
    "audit['race'] = audit['race'].replace({1: \"White\", 2: \"Black\", 3: \"Native American\", 4:\"Native Alaskan\", \n",
    "                      5:\"SPAA\", \n",
    "                      6:'Asian', 7: 'NPI', 8:'Other', 9: 'Multi'})\n",
    "\n",
    "audit['race'] = pd.Categorical(audit['race'])"
   ]
  },
  {
   "cell_type": "code",
   "execution_count": null,
   "metadata": {},
   "outputs": [
    {
     "name": "stdout",
     "output_type": "stream",
     "text": [
      "    race  accuracy       ppv       tpr       tnr       fpr       fnr  \\\n",
      "0  White  0.824527  0.771199  0.869107  0.778226  0.221774  0.130893   \n",
      "1  Black  0.799747  0.771199  0.877049  0.732861  0.267139  0.122951   \n",
      "\n",
      "   prevalance  feasible_fpr  feasible_fnr  \n",
      "0    0.509466      0.171032      0.100944  \n",
      "1    0.463878      0.206018      0.094820  \n"
     ]
    },
    {
     "data": {
      "image/png": "[encoded data removed]",
      "text/plain": [
       "<Figure size 700x500 with 1 Axes>"
      ]
     },
     "metadata": {},
     "output_type": "display_data"
    }
   ],
   "source": [
    "import seaborn as sns\n",
    "\n",
    "filtered = audit[audit[\"race\"].isin([\"Black\", \"White\"])]\n",
    "\n",
    "orange_color = \"#E69F00\"\n",
    "black_color = \"#000000\"\n",
    "\n",
    "desired_ppv = filtered[\"ppv\"].mean()\n",
    "\n",
    "feasible = filtered.copy()\n",
    "feasible[\"ppv\"] = desired_ppv\n",
    "\n",
    "feasible[\"feasible_fpr\"] = feasible[\"fpr\"] * (desired_ppv)\n",
    "feasible[\"feasible_fnr\"] = feasible[\"fnr\"] * (desired_ppv)\n",
    "# print(feasible)\n",
    "\n",
    "plt.figure(figsize=(7, 5))\n",
    "sns.set_style(\"whitegrid\")\n",
    "\n",
    "for i, row in feasible.iterrows():\n",
    "    color = orange_color if row[\"race\"] == \"White\" else black_color\n",
    "    \n",
    "    plt.scatter(row[\"fnr\"], row[\"fpr\"], color=color)\n",
    "    \n",
    "    plt.plot([row[\"fnr\"], row[\"feasible_fnr\"]], [row[\"fpr\"], row[\"feasible_fpr\"]], \n",
    "             color=color)  \n",
    "    \n",
    "\n",
    "plt.xlabel(\"False Negative Rate\")\n",
    "plt.ylabel(\"False Positive Rate\")\n",
    "plt.title(\"Feasible (FNR, FPR) combinations\")\n",
    "plt.show()"
   ]
  }
 ],
 "metadata": {
  "kernelspec": {
   "display_name": "ml-0451",
   "language": "python",
   "name": "python3"
  },
  "language_info": {
   "codemirror_mode": {
    "name": "ipython",
    "version": 3
   },
   "file_extension": ".py",
   "mimetype": "text/x-python",
   "name": "python",
   "nbconvert_exporter": "python",
   "pygments_lexer": "ipython3",
   "version": "3.9.19"
  }
 },
 "nbformat": 4,
 "nbformat_minor": 2
}
